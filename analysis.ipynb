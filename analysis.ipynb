{
 "cells": [
  {
   "cell_type": "markdown",
   "metadata": {},
   "source": [
    "# __Cool Datasets: The Lumosity Problem__"
   ]
  },
  {
   "cell_type": "code",
   "execution_count": 1,
   "metadata": {},
   "outputs": [],
   "source": [
    "import pandas as pd\n",
    "from pandasgui import show\n",
    "import plotly.express as px\n",
    "import warnings\n",
    "\n",
    "warnings.simplefilter(action='ignore', category=FutureWarning)"
   ]
  },
  {
   "cell_type": "markdown",
   "metadata": {},
   "source": [
    "### The Dataset (__results.csv__) and the Column Descriptions (__descriptions.csv__)"
   ]
  },
  {
   "cell_type": "code",
   "execution_count": 2,
   "metadata": {},
   "outputs": [],
   "source": [
    "desc_df = pd.read_csv('./data/descriptions.csv')\n",
    "results_df = pd.read_csv('./data/results.csv')"
   ]
  },
  {
   "cell_type": "markdown",
   "metadata": {},
   "source": [
    "### Fixing Formatting with Column Descriptions"
   ]
  },
  {
   "cell_type": "code",
   "execution_count": 3,
   "metadata": {},
   "outputs": [],
   "source": [
    "desc_df.columns = desc_df.iloc[0]\n",
    "desc_df = desc_df[1:] \n",
    "desc_dict = desc_df.set_index(desc_df.columns[0])[desc_df.columns[1]].to_dict()"
   ]
  },
  {
   "cell_type": "markdown",
   "metadata": {},
   "source": [
    "### Using the __PandasGUI__ for Data Visualization"
   ]
  },
  {
   "cell_type": "code",
   "execution_count": 4,
   "metadata": {},
   "outputs": [
    {
     "name": "stderr",
     "output_type": "stream",
     "text": [
      "PandasGUI INFO — pandasgui.gui — Opening PandasGUI\n"
     ]
    },
    {
     "data": {
      "text/plain": [
       "<pandasgui.gui.PandasGui at 0x18500277e20>"
      ]
     },
     "execution_count": 4,
     "metadata": {},
     "output_type": "execute_result"
    }
   ],
   "source": [
    "show(desc_dict, results_df)"
   ]
  },
  {
   "cell_type": "markdown",
   "metadata": {},
   "source": [
    "### __desc_dict__"
   ]
  },
  {
   "cell_type": "code",
   "execution_count": 8,
   "metadata": {},
   "outputs": [
    {
     "data": {
      "text/plain": [
       "{'participant_id': 'Unique identifier for each participant',\n",
       " 'group': 'Randomized condition - either \"lumosity\" (cognitive training) or \"crosswords\" (crossword puzzle control)',\n",
       " 'AR_pre': 'Neurocognitive battery pre-test - raw Arithmetic Reasoning score (number of correct responses)',\n",
       " 'TTS_pre': 'Neurocognitive battery pre-test - raw Two-Target Search score (negative threshold presentation time)',\n",
       " 'GNG_pre': 'Neurocognitive battery pre-test - raw Go/No-Go score (negative time)',\n",
       " 'GR_pre': 'Neurocognitive battery pre-test - raw Grammatical Reasoning score (net number of correct responses)',\n",
       " 'MS_pre': 'Neurocognitive battery pre-test - raw Forward Memory Span score (span)',\n",
       " 'PM_pre': 'Neurocognitive battery pre-test - raw Progressive Matrices score (number correct)',\n",
       " 'RMS_pre': 'Neurocognitive battery pre-test - raw Reverse Memory Span score (span)',\n",
       " 'age_round': 'Integer age at time of pre-test (floor of absolute age)',\n",
       " 'age_bin': '5-year age bin',\n",
       " 'AR_post': 'Neurocognitive battery post-test - raw Arithmetic Reasoning score (number of correct responses)',\n",
       " 'TTS_post': 'Neurocognitive battery post-test - raw Two-Target Search score (negative threshold presentation time)',\n",
       " 'GNG_post': 'Neurocognitive battery post-test - raw Go/No-Go score (negative time)',\n",
       " 'GR_post': 'Neurocognitive battery post-test - raw Grammatical Reasoning score (net number of correct responses)',\n",
       " 'MS_post': 'Neurocognitive battery post-test - raw Forward Memory Span score (span)',\n",
       " 'PM_post': 'Neurocognitive battery post-test - raw Progressive Matrices score (number correct)',\n",
       " 'RMS_post': 'Neurocognitive battery post-test - raw Reverse Memory Span score (span)',\n",
       " 'AR_1': 'Neurocognitive battery pre-test - scaled Arithmetic Reasoning score',\n",
       " 'TTS_1': 'Neurocognitive battery pre-test - scaled Two-Target Search score',\n",
       " 'GNG_1': 'Neurocognitive battery pre-test - scaled Go/No-Go score',\n",
       " 'GR_1': 'Neurocognitive battery pre-test - scaled Grammatical Reasoning score',\n",
       " 'MS_1': 'Neurocognitive battery pre-test - scaled Forward Memory Span score',\n",
       " 'PM_1': 'Neurocognitive battery pre-test - scaled Progressive Matrices score',\n",
       " 'RMS_1': 'Neurocognitive battery pre-test - scaled Reverse Memory Span score',\n",
       " 'GI_1': 'Neurocognitive battery pre-test - scaled Grand Index score',\n",
       " 'AR_2': 'Neurocognitive battery post-test - scaled Arithmetic Reasoning score',\n",
       " 'TTS_2': 'Neurocognitive battery post-test - scaled Two-Target Search score',\n",
       " 'GNG_2': 'Neurocognitive battery post-test - scaled Go/No-Go score',\n",
       " 'GR_2': 'Neurocognitive battery post-test - scaled Grammatical Reasoning score',\n",
       " 'MS_2': 'Neurocognitive battery post-test - scaled Forward Memory Span score',\n",
       " 'PM_2': 'Neurocognitive battery post-test - scaled Progressive Matrices score',\n",
       " 'RMS_2': 'Neurocognitive battery post-test - scaled Reverse Memory Span score',\n",
       " 'GI_2': 'Neurocognitive battery post-test - scaled Grand Index score',\n",
       " 'AR_d': 'Neurocognitive battery - change in scaled Arithmetic Reasoning score',\n",
       " 'TTS_d': 'Neurocognitive battery - change in scaled Two-Target Search score',\n",
       " 'GNG_d': 'Neurocognitive battery - change in scaled Go/No-Go score',\n",
       " 'GR_d': 'Neurocognitive battery - change in scaled Grammatical Reasoning score',\n",
       " 'MS_d': 'Neurocognitive battery - change in scaled Forward Memory Span score',\n",
       " 'PM_d': 'Neurocognitive battery - change in scaled Progressive Matrices score',\n",
       " 'RMS_d': 'Neurocognitive battery - change in scaled Reverse Memory Span score',\n",
       " 'GI_d': 'Neurocognitive battery - change in Grand Index score',\n",
       " 'lost_track_details_pre': 'Participant reported outcomes pre-test - Q1',\n",
       " 'misplaced_items_pre': 'Participant reported outcomes pre-test - Q2',\n",
       " 'lost_concentration_pre': 'Participant reported outcomes pre-test - Q3',\n",
       " 'remembered_names_pre': 'Participant reported outcomes pre-test - Q4',\n",
       " 'felt_creative_pre': 'Participant reported outcomes pre-test - Q5',\n",
       " 'good_concentration_pre': 'Participant reported outcomes pre-test - Q6',\n",
       " 'felt_anxious_pre': 'Participant reported outcomes pre-test - Q7',\n",
       " 'in_bad_mood_pre': 'Participant reported outcomes pre-test - Q8',\n",
       " 'felt_sad_pre': 'Participant reported outcomes pre-test - Q9',\n",
       " 'felt_training_benefits_pre': 'Participant reported outcomes pre-test - Q10 (excluded from average, see manuscript)',\n",
       " 'rwc_ave_pre': 'Participant reported outcomes pre-test - average of Q1-9',\n",
       " 'lost_track_details_post': 'Participant reported outcomes post-test - Q1',\n",
       " 'misplaced_items_post': 'Participant reported outcomes post-test - Q2',\n",
       " 'lost_concentration_post': 'Participant reported outcomes post-test - Q3',\n",
       " 'remembered_names_post': 'Participant reported outcomes post-test - Q4',\n",
       " 'felt_creative_post': 'Participant reported outcomes post-test - Q5',\n",
       " 'good_concentration_post': 'Participant reported outcomes post-test - Q6',\n",
       " 'felt_anxious_post': 'Participant reported outcomes post-test - Q7',\n",
       " 'in_bad_mood_post': 'Participant reported outcomes post-test - Q8',\n",
       " 'felt_sad_post': 'Participant reported outcomes post-test - Q9',\n",
       " 'felt_training_benefits_post': 'Participant reported outcomes post-test - Q10 (excluded from average, see manuscript)',\n",
       " 'rwc_ave_post': 'Participant reported outcomes post-test - average of Q1-9',\n",
       " 'lost_track_details_d': 'Participant reported outcomes - change in Q1',\n",
       " 'misplaced_items_d': 'Participant reported outcomes - change in Q2',\n",
       " 'lost_concentration_d': 'Participant reported outcomes - change in Q3',\n",
       " 'remembered_names_d': 'Participant reported outcomes - change in Q4',\n",
       " 'felt_creative_d': 'Participant reported outcomes - change in Q5',\n",
       " 'good_concentration_d': 'Participant reported outcomes - change in Q6',\n",
       " 'felt_anxious_d': 'Participant reported outcomes - change in Q7',\n",
       " 'in_bad_mood_d': 'Participant reported outcomes - change in Q8',\n",
       " 'felt_sad_d': 'Participant reported outcomes - change in Q9',\n",
       " 'felt_training_benefits_d': 'Participant reported outcomes - change in Q10 (excluded from average, see manuscript)',\n",
       " 'rwc_ave_d': 'Participant reported outcomes - change in average of Q1-9',\n",
       " 'crosswords_active_days': 'Number of unique days participant started a crossword puzzle during study period',\n",
       " 'lumosity_active_days': 'Number of unique days participant completed at least one Lumosity game during study period',\n",
       " 'active_days': 'Total number of unique days participant engaged with either program',\n",
       " 'exclude': 'Was control participant excluded from final analysis for completing cognitive training during study period? (1 = excluded, 0 = included)',\n",
       " 'est_hours': 'Estimate of total hours trained during the study period (see Supplementary Information for more detail on how this was calculated)'}"
      ]
     },
     "execution_count": 8,
     "metadata": {},
     "output_type": "execute_result"
    }
   ],
   "source": [
    "desc_dict"
   ]
  },
  {
   "cell_type": "markdown",
   "metadata": {},
   "source": [
    "### Functions for Visualizations"
   ]
  },
  {
   "cell_type": "code",
   "execution_count": null,
   "metadata": {},
   "outputs": [],
   "source": [
    "# Plotly Code for all visualizations (functions)"
   ]
  },
  {
   "cell_type": "code",
   "execution_count": 7,
   "metadata": {},
   "outputs": [],
   "source": [
    "# Plotly Code for all visualizations (function calls)"
   ]
  }
 ],
 "metadata": {
  "kernelspec": {
   "display_name": ".venv",
   "language": "python",
   "name": "python3"
  },
  "language_info": {
   "codemirror_mode": {
    "name": "ipython",
    "version": 3
   },
   "file_extension": ".py",
   "mimetype": "text/x-python",
   "name": "python",
   "nbconvert_exporter": "python",
   "pygments_lexer": "ipython3",
   "version": "3.10.11"
  }
 },
 "nbformat": 4,
 "nbformat_minor": 2
}
